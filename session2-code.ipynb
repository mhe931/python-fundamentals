{
 "cells": [
  {
   "cell_type": "code",
   "execution_count": 1,
   "id": "1b40a7ad",
   "metadata": {},
   "outputs": [
    {
     "name": "stdout",
     "output_type": "stream",
     "text": [
      "Hello, Daniel!\n",
      "Brand: Toyota, Model: Corolla\n"
     ]
    }
   ],
   "source": [
    "# Session 2: Code Examples\n",
    "# Functions, Modules, and Object-Oriented Programming\n",
    "\n",
    "# --- Functions ---\n",
    "def greet(name):\n",
    "    return f\"Hello, {name}!\"\n",
    "\n",
    "message = greet(\"Daniel\")\n",
    "print(message)\n",
    "\n",
    "# --- Object-Oriented Programming (OOP) ---\n",
    "class Car:\n",
    "    def __init__(self, brand, model):\n",
    "        self.brand = brand\n",
    "        self.model = model\n",
    "\n",
    "    def display(self):\n",
    "        print(f\"Brand: {self.brand}, Model: {self.model}\")\n",
    "\n",
    "my_car = Car(\"Toyota\", \"Corolla\")\n",
    "my_car.display()"
   ]
  },
  {
   "cell_type": "code",
   "execution_count": null,
   "id": "8e0e2636",
   "metadata": {},
   "outputs": [],
   "source": []
  }
 ],
 "metadata": {
  "kernelspec": {
   "display_name": "Python 3",
   "language": "python",
   "name": "python3"
  },
  "language_info": {
   "codemirror_mode": {
    "name": "ipython",
    "version": 3
   },
   "file_extension": ".py",
   "mimetype": "text/x-python",
   "name": "python",
   "nbconvert_exporter": "python",
   "pygments_lexer": "ipython3",
   "version": "3.13.7"
  }
 },
 "nbformat": 4,
 "nbformat_minor": 5
}
