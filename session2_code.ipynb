{
 "cells": [
  {
   "cell_type": "code",
   "execution_count": 1,
   "id": "2472857b",
   "metadata": {},
   "outputs": [
    {
     "name": "stdout",
     "output_type": "stream",
     "text": [
      "Integer: 10 (<class 'int'>)\n",
      "Float: 3.14 (<class 'float'>)\n",
      "String: Hello, Python! (<class 'str'>)\n",
      "Boolean: True (<class 'bool'>)\n",
      "Addition: 15 + 4 = 19\n",
      "Comparison: Is 15 > 4? True\n",
      "You are an adult.\n",
      "I like apple.\n",
      "I like banana.\n",
      "I like cherry.\n",
      "List: [10, 20, 'Python', 30]\n",
      "Dictionary: {'name': 'Alice', 'course': 'AI'}\n"
     ]
    }
   ],
   "source": [
    "# Session 1: Code Examples\n",
    "# Data Types, Variables, Operators, Control Flow, and Data Structures\n",
    "\n",
    "# --- Data Types ---\n",
    "integer_var = 10\n",
    "float_var = 3.14\n",
    "string_var = \"Hello, Python!\"\n",
    "boolean_var = True\n",
    "\n",
    "print(f\"Integer: {integer_var} ({type(integer_var)})\")\n",
    "print(f\"Float: {float_var} ({type(float_var)})\")\n",
    "print(f\"String: {string_var} ({type(string_var)})\")\n",
    "print(f\"Boolean: {boolean_var} ({type(boolean_var)})\")\n",
    "\n",
    "# --- Operators ---\n",
    "x = 15\n",
    "y = 4\n",
    "print(f\"Addition: {x} + {y} = {x + y}\")\n",
    "print(f\"Comparison: Is {x} > {y}? {x > y}\")\n",
    "\n",
    "# --- Control Flow (if/else) ---\n",
    "age = 20\n",
    "if age >= 18:\n",
    "    print(\"You are an adult.\")\n",
    "else:\n",
    "    print(\"You are not yet an adult.\")\n",
    "\n",
    "# --- Control Flow (for loop) ---\n",
    "fruits = [\"apple\", \"banana\", \"cherry\"]\n",
    "for fruit in fruits:\n",
    "    print(f\"I like {fruit}.\")\n",
    "\n",
    "# --- Data Structures ---\n",
    "my_list = [10, 20, \"Python\"]\n",
    "my_list.append(30)\n",
    "print(f\"List: {my_list}\")\n",
    "\n",
    "my_dict = {\"name\": \"Alice\", \"course\": \"AI\"}\n",
    "print(f\"Dictionary: {my_dict}\")"
   ]
  },
  {
   "cell_type": "code",
   "execution_count": null,
   "id": "9ab28b7c",
   "metadata": {},
   "outputs": [],
   "source": []
  }
 ],
 "metadata": {
  "kernelspec": {
   "display_name": "Python 3",
   "language": "python",
   "name": "python3"
  },
  "language_info": {
   "codemirror_mode": {
    "name": "ipython",
    "version": 3
   },
   "file_extension": ".py",
   "mimetype": "text/x-python",
   "name": "python",
   "nbconvert_exporter": "python",
   "pygments_lexer": "ipython3",
   "version": "3.13.7"
  }
 },
 "nbformat": 4,
 "nbformat_minor": 5
}
